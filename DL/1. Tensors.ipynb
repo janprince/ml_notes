{
 "cells": [
  {
   "cell_type": "markdown",
   "id": "8a5c4294",
   "metadata": {},
   "source": [
    "## Tensors"
   ]
  },
  {
   "cell_type": "markdown",
   "id": "37ca46fd",
   "metadata": {},
   "source": [
    "We started from data stored in multidimensional NumPy arrays, also called tensors. In general, all current machine learning systems use tensors as their basic data structure."
   ]
  },
  {
   "cell_type": "code",
   "execution_count": 2,
   "id": "5298a1c7",
   "metadata": {
    "ExecuteTime": {
     "start_time": "2023-03-27T23:48:00.608083Z",
     "end_time": "2023-03-27T23:48:01.014309Z"
    }
   },
   "outputs": [],
   "source": [
    "import numpy as np"
   ]
  },
  {
   "cell_type": "markdown",
   "id": "65c56f78",
   "metadata": {},
   "source": [
    "### Scalar (rank-0 tensors)\n",
    "A tensor that contains only one number is called a scalar"
   ]
  },
  {
   "cell_type": "code",
   "execution_count": 3,
   "id": "96148313",
   "metadata": {
    "ExecuteTime": {
     "start_time": "2023-03-27T23:48:00.748999Z",
     "end_time": "2023-03-27T23:48:01.016351Z"
    }
   },
   "outputs": [
    {
     "data": {
      "text/plain": "array(12)"
     },
     "execution_count": 3,
     "metadata": {},
     "output_type": "execute_result"
    }
   ],
   "source": [
    "x = np.array(12)\n",
    "x"
   ]
  },
  {
   "cell_type": "code",
   "execution_count": 4,
   "id": "45f076b2",
   "metadata": {
    "ExecuteTime": {
     "start_time": "2023-03-27T23:48:00.755648Z",
     "end_time": "2023-03-27T23:48:01.034065Z"
    }
   },
   "outputs": [
    {
     "data": {
      "text/plain": "0"
     },
     "execution_count": 4,
     "metadata": {},
     "output_type": "execute_result"
    }
   ],
   "source": [
    "x.ndim"
   ]
  },
  {
   "cell_type": "code",
   "execution_count": 5,
   "id": "b8e13e32",
   "metadata": {
    "ExecuteTime": {
     "start_time": "2023-03-27T23:48:00.774458Z",
     "end_time": "2023-03-27T23:48:01.034065Z"
    }
   },
   "outputs": [
    {
     "data": {
      "text/plain": "()"
     },
     "execution_count": 5,
     "metadata": {},
     "output_type": "execute_result"
    }
   ],
   "source": [
    "x.shape"
   ]
  },
  {
   "cell_type": "markdown",
   "id": "624eebb9",
   "metadata": {},
   "source": [
    "### Vectors (rank-1 tensors)\n",
    "An array of numbers is called a vector, or rank-1 tensor, or 1D tensor."
   ]
  },
  {
   "cell_type": "code",
   "execution_count": 6,
   "id": "76da5784",
   "metadata": {
    "ExecuteTime": {
     "start_time": "2023-03-27T23:48:00.789826Z",
     "end_time": "2023-03-27T23:48:01.038053Z"
    }
   },
   "outputs": [
    {
     "data": {
      "text/plain": "array([2, 3, 5, 6, 1, 2])"
     },
     "execution_count": 6,
     "metadata": {},
     "output_type": "execute_result"
    }
   ],
   "source": [
    "x = np.array([2, 3, 5, 6, 1, 2])\n",
    "x"
   ]
  },
  {
   "cell_type": "code",
   "execution_count": 7,
   "id": "e8599879",
   "metadata": {
    "ExecuteTime": {
     "start_time": "2023-03-27T23:48:00.806234Z",
     "end_time": "2023-03-27T23:48:01.038053Z"
    }
   },
   "outputs": [
    {
     "data": {
      "text/plain": "1"
     },
     "execution_count": 7,
     "metadata": {},
     "output_type": "execute_result"
    }
   ],
   "source": [
    "x.ndim"
   ]
  },
  {
   "cell_type": "code",
   "execution_count": 8,
   "id": "e805b4d2",
   "metadata": {
    "ExecuteTime": {
     "start_time": "2023-03-27T23:48:00.816938Z",
     "end_time": "2023-03-27T23:48:01.039518Z"
    }
   },
   "outputs": [
    {
     "data": {
      "text/plain": "(6,)"
     },
     "execution_count": 8,
     "metadata": {},
     "output_type": "execute_result"
    }
   ],
   "source": [
    "x.shape"
   ]
  },
  {
   "cell_type": "markdown",
   "id": "bc887fc6",
   "metadata": {},
   "source": [
    "### Matrices (rank-2 tensors)\n",
    "An array of vectors is a matrix, or rank-2 tensor, or 2D tensor. A matrix has two axes (often referred to as rows and columns)."
   ]
  },
  {
   "cell_type": "code",
   "execution_count": 9,
   "id": "ba2f5ef8",
   "metadata": {
    "ExecuteTime": {
     "start_time": "2023-03-27T23:48:00.836080Z",
     "end_time": "2023-03-27T23:48:01.039518Z"
    }
   },
   "outputs": [],
   "source": [
    "x = np.array([[5, 78, 2, 34, 0],\n",
    "              [6, 79, 3, 35, 1],\n",
    "              [7, 80, 4, 36, 2]])"
   ]
  },
  {
   "cell_type": "code",
   "execution_count": 10,
   "id": "c925394f",
   "metadata": {
    "ExecuteTime": {
     "start_time": "2023-03-27T23:48:00.854314Z",
     "end_time": "2023-03-27T23:48:01.039518Z"
    }
   },
   "outputs": [
    {
     "data": {
      "text/plain": "array([[ 5, 78,  2, 34,  0],\n       [ 6, 79,  3, 35,  1],\n       [ 7, 80,  4, 36,  2]])"
     },
     "execution_count": 10,
     "metadata": {},
     "output_type": "execute_result"
    }
   ],
   "source": [
    "x"
   ]
  },
  {
   "cell_type": "code",
   "execution_count": 11,
   "id": "31ff15ab",
   "metadata": {
    "ExecuteTime": {
     "start_time": "2023-03-27T23:48:00.867735Z",
     "end_time": "2023-03-27T23:48:01.039518Z"
    }
   },
   "outputs": [
    {
     "data": {
      "text/plain": "2"
     },
     "execution_count": 11,
     "metadata": {},
     "output_type": "execute_result"
    }
   ],
   "source": [
    "x.ndim"
   ]
  },
  {
   "cell_type": "code",
   "execution_count": 12,
   "id": "3b27a383",
   "metadata": {
    "ExecuteTime": {
     "start_time": "2023-03-27T23:48:00.883705Z",
     "end_time": "2023-03-27T23:48:01.040512Z"
    }
   },
   "outputs": [
    {
     "data": {
      "text/plain": "(3, 5)"
     },
     "execution_count": 12,
     "metadata": {},
     "output_type": "execute_result"
    }
   ],
   "source": [
    "x.shape"
   ]
  },
  {
   "cell_type": "code",
   "execution_count": 13,
   "outputs": [
    {
     "data": {
      "text/plain": "dtype('int32')"
     },
     "execution_count": 13,
     "metadata": {},
     "output_type": "execute_result"
    }
   ],
   "source": [
    "x.dtype"
   ],
   "metadata": {
    "collapsed": false,
    "ExecuteTime": {
     "start_time": "2023-03-27T23:48:00.899612Z",
     "end_time": "2023-03-27T23:48:01.040512Z"
    }
   }
  },
  {
   "cell_type": "markdown",
   "id": "38c28995",
   "metadata": {},
   "source": [
    "### Rank-3 and higher-rank tensors\n",
    "If you pack such matrices in a new array, you obtain a rank-3 tensor (or 3D tensor), which you can visually interpret as a cube of numbers."
   ]
  },
  {
   "cell_type": "code",
   "execution_count": 14,
   "id": "084737f6",
   "metadata": {
    "ExecuteTime": {
     "start_time": "2023-03-27T23:48:00.911133Z",
     "end_time": "2023-03-27T23:48:01.040512Z"
    }
   },
   "outputs": [
    {
     "data": {
      "text/plain": "array([[[ 5, 78,  2, 34,  0],\n        [ 6, 79,  3, 35,  1],\n        [ 7, 80,  4, 36,  2]],\n\n       [[ 5, 78,  2, 34,  0],\n        [ 6, 79,  3, 35,  1],\n        [ 7, 80,  4, 36,  2]],\n\n       [[ 5, 78,  2, 34,  0],\n        [ 6, 79,  3, 35,  1],\n        [ 7, 80,  4, 36,  2]]])"
     },
     "execution_count": 14,
     "metadata": {},
     "output_type": "execute_result"
    }
   ],
   "source": [
    "x = np.array([[[5, 78, 2, 34, 0],\n",
    "               [6, 79, 3, 35, 1],\n",
    "               [7, 80, 4, 36, 2]],\n",
    "              [[5, 78, 2, 34, 0],\n",
    "               [6, 79, 3, 35, 1],\n",
    "               [7, 80, 4, 36, 2]],\n",
    "              [[5, 78, 2, 34, 0],\n",
    "               [6, 79, 3, 35, 1],\n",
    "               [7, 80, 4, 36, 2]]])\n",
    "\n",
    "x"
   ]
  },
  {
   "cell_type": "code",
   "execution_count": 15,
   "id": "f9d97683",
   "metadata": {
    "ExecuteTime": {
     "start_time": "2023-03-27T23:48:00.930073Z",
     "end_time": "2023-03-27T23:48:01.040512Z"
    }
   },
   "outputs": [
    {
     "data": {
      "text/plain": "dtype('int32')"
     },
     "execution_count": 15,
     "metadata": {},
     "output_type": "execute_result"
    }
   ],
   "source": [
    "x.dtype"
   ]
  },
  {
   "cell_type": "code",
   "execution_count": 16,
   "id": "782d9d70",
   "metadata": {
    "ExecuteTime": {
     "start_time": "2023-03-27T23:48:00.945220Z",
     "end_time": "2023-03-27T23:48:01.040512Z"
    }
   },
   "outputs": [
    {
     "data": {
      "text/plain": "3"
     },
     "execution_count": 16,
     "metadata": {},
     "output_type": "execute_result"
    }
   ],
   "source": [
    "x.ndim"
   ]
  },
  {
   "cell_type": "code",
   "execution_count": 17,
   "id": "67aeace3",
   "metadata": {
    "ExecuteTime": {
     "start_time": "2023-03-27T23:48:00.960979Z",
     "end_time": "2023-03-27T23:48:01.040512Z"
    }
   },
   "outputs": [
    {
     "data": {
      "text/plain": "(3, 3, 5)"
     },
     "execution_count": 17,
     "metadata": {},
     "output_type": "execute_result"
    }
   ],
   "source": [
    "x.shape"
   ]
  },
  {
   "cell_type": "markdown",
   "id": "f068621f",
   "metadata": {},
   "source": [
    "### A tensor is defined by* three key attributes:\n",
    "\n",
    "1. **Number of axes (rank)**\n",
    "2. **Shape** This is a tuple of integers that describes how many dimensions the tensor has along each axis.\n",
    "3. **Data type** (usually called dtype in Python libraries)—This is the type of the data contained in the tensor; for instance, a tensor’s type could be float16, float32, float64, uint8, and so on. In TensorFlow, you are also likely to come across string tensors."
   ]
  },
  {
   "cell_type": "markdown",
   "id": "3ddd5cc2",
   "metadata": {},
   "source": [
    "## Manipulating Tensors in NumPy"
   ]
  },
  {
   "cell_type": "code",
   "execution_count": 18,
   "id": "d8dbd4e0-a345-45d5-9a61-385f0af39b43",
   "metadata": {
    "ExecuteTime": {
     "start_time": "2023-03-27T23:48:00.978183Z",
     "end_time": "2023-03-27T23:48:04.601832Z"
    }
   },
   "outputs": [],
   "source": [
    "from tensorflow.keras.datasets import mnist"
   ]
  },
  {
   "cell_type": "code",
   "execution_count": 19,
   "id": "72a6ba80-c9fe-4783-8c2a-8632993e16e6",
   "metadata": {
    "ExecuteTime": {
     "start_time": "2023-03-27T23:48:04.603808Z",
     "end_time": "2023-03-27T23:48:04.950962Z"
    }
   },
   "outputs": [],
   "source": [
    "(train_images, train_labels), (test_images, test_labels) = mnist.load_data()"
   ]
  },
  {
   "cell_type": "markdown",
   "id": "02c2b9aa-4b5d-44e5-a4aa-a51b77e05a30",
   "metadata": {},
   "source": [
    "Selecting specific elements in a tensor is called **tensor slicing**.\n",
    "\n",
    "The following example selects digits #10 to #100 (#100 isn’t included) and puts them in an array of shape (90, 28, 28):"
   ]
  },
  {
   "cell_type": "code",
   "execution_count": 20,
   "id": "2b72d698-c9b1-4908-bfa1-65891e069b21",
   "metadata": {
    "ExecuteTime": {
     "start_time": "2023-03-27T23:48:04.954954Z",
     "end_time": "2023-03-27T23:48:04.966377Z"
    }
   },
   "outputs": [
    {
     "data": {
      "text/plain": "(90, 28, 28)"
     },
     "execution_count": 20,
     "metadata": {},
     "output_type": "execute_result"
    }
   ],
   "source": [
    "my_slice = train_images[10: 100]\n",
    "my_slice.shape"
   ]
  },
  {
   "cell_type": "markdown",
   "id": "2b087aa9-c414-4b7d-8508-c1d5b5648c80",
   "metadata": {},
   "source": [
    "It’s equivalent to this more detailed notation, which specifies a start index and stop index for the **slice along each tensor axis.**"
   ]
  },
  {
   "cell_type": "code",
   "execution_count": 21,
   "id": "a36a5c70-f117-4c01-a7a9-717edb58b4cb",
   "metadata": {
    "ExecuteTime": {
     "start_time": "2023-03-27T23:48:04.967375Z",
     "end_time": "2023-03-27T23:48:05.040174Z"
    }
   },
   "outputs": [
    {
     "data": {
      "text/plain": "(90, 28, 28)"
     },
     "execution_count": 21,
     "metadata": {},
     "output_type": "execute_result"
    }
   ],
   "source": [
    "my_slice = train_images[10: 100, :, :]\n",
    "my_slice.shape"
   ]
  },
  {
   "cell_type": "markdown",
   "id": "72a3686b-654a-47dd-b441-0e9b7a1d0150",
   "metadata": {},
   "source": [
    "Also equivalent to:"
   ]
  },
  {
   "cell_type": "code",
   "execution_count": 22,
   "id": "5a079343-c952-482a-a318-de1c68a70d8b",
   "metadata": {
    "ExecuteTime": {
     "start_time": "2023-03-27T23:48:04.988303Z",
     "end_time": "2023-03-27T23:48:05.058749Z"
    }
   },
   "outputs": [
    {
     "data": {
      "text/plain": "(90, 28, 28)"
     },
     "execution_count": 22,
     "metadata": {},
     "output_type": "execute_result"
    }
   ],
   "source": [
    "my_slice = train_images[10:100, 0:28, 0:28]\n",
    "my_slice.shape"
   ]
  },
  {
   "cell_type": "markdown",
   "id": "97f7cffe-422e-4970-b679-0906c9ab1d25",
   "metadata": {},
   "source": [
    "In general, you may select slices between any two indices along each tensor axis. For instance, in order to select 14 × 14 pixels in the bottom-right corner of all images, you would do this:"
   ]
  },
  {
   "cell_type": "code",
   "execution_count": 23,
   "id": "4d802a97-3358-485a-9900-dea07a835680",
   "metadata": {
    "ExecuteTime": {
     "start_time": "2023-03-27T23:48:05.003255Z",
     "end_time": "2023-03-27T23:48:05.059698Z"
    }
   },
   "outputs": [
    {
     "data": {
      "text/plain": "(60000, 14, 14)"
     },
     "execution_count": 23,
     "metadata": {},
     "output_type": "execute_result"
    }
   ],
   "source": [
    "my_slice = train_images[:, 14:, 14:]\n",
    "my_slice.shape"
   ]
  },
  {
   "cell_type": "code",
   "execution_count": 24,
   "id": "0b98314e-89be-4681-83f7-8c7ab893dc6b",
   "metadata": {
    "ExecuteTime": {
     "start_time": "2023-03-27T23:48:05.016139Z",
     "end_time": "2023-03-27T23:48:05.734862Z"
    }
   },
   "outputs": [
    {
     "data": {
      "text/plain": "<Figure size 432x288 with 1 Axes>",
      "image/png": "[encoded data removed]"
     },
     "metadata": {
      "needs_background": "light"
     },
     "output_type": "display_data"
    }
   ],
   "source": [
    "import matplotlib.pyplot as plt\n",
    "\n",
    "plt.imshow(my_slice[1], cmap=plt.cm.binary)\n",
    "plt.show()"
   ]
  },
  {
   "cell_type": "code",
   "execution_count": 28,
   "outputs": [
    {
     "name": "stdout",
     "output_type": "stream",
     "text": [
      "[[  0   0   0   0   0   0 255 253 196   0   0   0   0   0]\n",
      " [  0   0   0   0   0   0 253 252 148   0   0   0   0   0]\n",
      " [  0   0   0   0   7 135 253 186  12   0   0   0   0   0]\n",
      " [  0   0   0   7 131 252 225  71   0   0   0   0   0   0]\n",
      " [  0   0  48 165 252 173   0   0   0   0   0   0   0   0]\n",
      " [  0 114 238 253 162   0   0   0   0   0   0   0   0   0]\n",
      " [225 253 223 167  56   0   0   0   0   0   0   0   0   0]\n",
      " [252 196 130   0   0   0   0   0   0   0   0   0   0   0]\n",
      " [145   0   0   0   0   0   0   0   0   0   0   0   0   0]\n",
      " [  0   0   0   0   0   0   0   0   0   0   0   0   0   0]\n",
      " [  0   0   0   0   0   0   0   0   0   0   0   0   0   0]\n",
      " [  0   0   0   0   0   0   0   0   0   0   0   0   0   0]\n",
      " [  0   0   0   0   0   0   0   0   0   0   0   0   0   0]\n",
      " [  0   0   0   0   0   0   0   0   0   0   0   0   0   0]]\n"
     ]
    }
   ],
   "source": [
    "print(my_slice[1])  #"
   ],
   "metadata": {
    "collapsed": false,
    "ExecuteTime": {
     "start_time": "2023-03-27T23:53:41.837165Z",
     "end_time": "2023-03-27T23:53:41.857474Z"
    }
   }
  },
  {
   "cell_type": "markdown",
   "id": "f4a707ee-cea3-425b-b80e-5c63feb3365c",
   "metadata": {},
   "source": [
    "The plot above is the bottom right 14 pixels of the full 28x28 pixel image below."
   ]
  },
  {
   "cell_type": "code",
   "execution_count": 25,
   "id": "6797d27c-7898-4f45-9883-ea4f79083309",
   "metadata": {
    "ExecuteTime": {
     "start_time": "2023-03-27T23:48:05.733863Z",
     "end_time": "2023-03-27T23:48:05.858043Z"
    }
   },
   "outputs": [
    {
     "data": {
      "text/plain": "<Figure size 432x288 with 1 Axes>",
      "image/png": "[encoded data removed]"
     },
     "metadata": {
      "needs_background": "light"
     },
     "output_type": "display_data"
    }
   ],
   "source": [
    "plt.imshow(train_images[1], cmap=plt.cm.binary)\n",
    "plt.show()"
   ]
  },
  {
   "cell_type": "code",
   "execution_count": 31,
   "outputs": [],
   "source": [
    "# print(train_images[1])"
   ],
   "metadata": {
    "collapsed": false,
    "ExecuteTime": {
     "start_time": "2023-03-27T23:56:26.993804Z",
     "end_time": "2023-03-27T23:56:27.013737Z"
    }
   }
  },
  {
   "cell_type": "markdown",
   "id": "ba6e2aef-c325-4f45-8906-aa2e871c01ea",
   "metadata": {},
   "source": [
    "### Real-world examples of data tensors\n",
    "Let’s make data tensors more concrete with a few examples similar to what you’ll encounter later. The data you’ll manipulate will almost always fall into one of the following categories:\n",
    " * **Vector data** — Rank-2 tensors of shape (samples, features), where each sample is a vector of numerical attributes (“features”)\n",
    " * **Timeseries data or sequence data** — Rank-3 tensors of shape (samples, timesteps, features), where each sample is a sequence (of length timesteps) of feature vectors\n",
    " * **Images** — Rank-4 tensors of shape (samples, height, width, channels), where each sample is a 2D grid of pixels, and each pixel is represented by a vector of values (“channels”)\n",
    " * **Video** — Rank-5 tensors of shape (samples, frames, height, width, channels), where each sample is a sequence (of length frames) of images"
   ]
  },
  {
   "cell_type": "code",
   "execution_count": 26,
   "id": "5786c4fa-463a-435d-a5fe-7acb3e743bbd",
   "metadata": {
    "ExecuteTime": {
     "start_time": "2023-03-27T23:48:05.860036Z",
     "end_time": "2023-03-27T23:48:05.872995Z"
    }
   },
   "outputs": [
    {
     "data": {
      "text/plain": "dtype('float64')"
     },
     "execution_count": 26,
     "metadata": {},
     "output_type": "execute_result"
    }
   ],
   "source": [
    "n = np.array([2, 4.2])\n",
    "n.dtype"
   ]
  },
  {
   "cell_type": "code",
   "execution_count": 27,
   "id": "b5468f89-bd82-4949-ba46-3b9957cee0e4",
   "metadata": {
    "ExecuteTime": {
     "start_time": "2023-03-27T23:48:05.876979Z",
     "end_time": "2023-03-27T23:48:05.940020Z"
    }
   },
   "outputs": [
    {
     "data": {
      "text/plain": "2.0"
     },
     "execution_count": 27,
     "metadata": {},
     "output_type": "execute_result"
    }
   ],
   "source": [
    "n[0]"
   ]
  },
  {
   "cell_type": "code",
   "execution_count": 27,
   "id": "fd73be65-e907-4098-9da9-817889adecd1",
   "metadata": {
    "ExecuteTime": {
     "start_time": "2023-03-27T23:48:05.889141Z",
     "end_time": "2023-03-27T23:48:05.962838Z"
    }
   },
   "outputs": [],
   "source": []
  }
 ],
 "metadata": {
  "kernelspec": {
   "display_name": "Python 3 (ipykernel)",
   "language": "python",
   "name": "python3"
  },
  "language_info": {
   "codemirror_mode": {
    "name": "ipython",
    "version": 3
   },
   "file_extension": ".py",
   "mimetype": "text/x-python",
   "name": "python",
   "nbconvert_exporter": "python",
   "pygments_lexer": "ipython3",
   "version": "3.9.6"
  }
 },
 "nbformat": 4,
 "nbformat_minor": 5
}
