{
 "cells": [
  {
   "cell_type": "markdown",
   "id": "4a8f262c-3088-4b4a-8423-3130c102c03e",
   "metadata": {},
   "source": [
    "## Matrix Multiplication in Numpy\n",
    "<center><img src=\"images/matrix.png\" width=700></center>"
   ]
  },
  {
   "cell_type": "code",
   "execution_count": 2,
   "id": "7af47d69-2a59-444e-88b8-d23559a65122",
   "metadata": {},
   "outputs": [
    {
     "data": {
      "text/plain": [
       "array([[ 1. ,  2. ],\n",
       "       [-1. , -2. ],\n",
       "       [ 0.1,  0.2]])"
      ]
     },
     "execution_count": 2,
     "metadata": {},
     "output_type": "execute_result"
    }
   ],
   "source": [
    "import numpy as np\n",
    "A = np.array([[1, -1, 0.1],\n",
    "             [2, -2, 0.2]])\n",
    "AT = A.T\n",
    "\n",
    "AT"
   ]
  },
  {
   "cell_type": "code",
   "execution_count": 3,
   "id": "8a7c14e8-a067-4a37-b054-561c6142e607",
   "metadata": {},
   "outputs": [],
   "source": [
    "W = np.array([[3, 5, 7, 9],\n",
    "              [4, 6, 8, 0]])"
   ]
  },
  {
   "cell_type": "code",
   "execution_count": 4,
   "id": "7ccfceab-cb92-4d8d-9c01-2eb0a01e011d",
   "metadata": {},
   "outputs": [
    {
     "data": {
      "text/plain": [
       "array([[ 11. ,  17. ,  23. ,   9. ],\n",
       "       [-11. , -17. , -23. ,  -9. ],\n",
       "       [  1.1,   1.7,   2.3,   0.9]])"
      ]
     },
     "execution_count": 4,
     "metadata": {},
     "output_type": "execute_result"
    }
   ],
   "source": [
    "Z = np.matmul(AT, W)\n",
    "Z"
   ]
  },
  {
   "cell_type": "code",
   "execution_count": 6,
   "id": "74b36512-109e-47d6-ba18-bb065918ce5d",
   "metadata": {},
   "outputs": [
    {
     "data": {
      "text/plain": [
       "array([[ 11. ,  17. ,  23. ,   9. ],\n",
       "       [-11. , -17. , -23. ,  -9. ],\n",
       "       [  1.1,   1.7,   2.3,   0.9]])"
      ]
     },
     "execution_count": 6,
     "metadata": {},
     "output_type": "execute_result"
    }
   ],
   "source": [
    "# or\n",
    "Z = AT @ W\n",
    "Z"
   ]
  },
  {
   "cell_type": "markdown",
   "id": "786e1183-f48a-4564-92c8-95d3ea5fac4b",
   "metadata": {},
   "source": [
    "## Vectorized Implementation of forward prop"
   ]
  },
  {
   "cell_type": "code",
   "execution_count": 7,
   "id": "377914df-4e6f-47b6-a2ef-c187cda6b3ac",
   "metadata": {},
   "outputs": [],
   "source": [
    "# usual input\n",
    "AT = [[200, 17]]   # a 1 x 2 matrix\n",
    "W = [[1, -3, 5],\n",
    "    [-2, 4, -6]]\n",
    "B = [[-1, 1, 2]]    # a 1 x 3 matrix"
   ]
  },
  {
   "cell_type": "code",
   "execution_count": 8,
   "id": "8cbbee2e-923f-4442-9f2e-b3547c03e324",
   "metadata": {},
   "outputs": [],
   "source": [
    "Z = np.matmul(AT, W) + B"
   ]
  },
  {
   "cell_type": "code",
   "execution_count": 9,
   "id": "a669fe13-c139-4cb4-a691-969406c86bbf",
   "metadata": {},
   "outputs": [
    {
     "data": {
      "text/plain": [
       "array([[ 165, -531,  900]])"
      ]
     },
     "execution_count": 9,
     "metadata": {},
     "output_type": "execute_result"
    }
   ],
   "source": [
    "Z"
   ]
  },
  {
   "cell_type": "code",
   "execution_count": null,
   "id": "c9fd0eee-bd52-4e73-b8b3-f272551c3b1b",
   "metadata": {},
   "outputs": [],
   "source": [
    "def g(Z):\n",
    "    \"\"\" The activation function \"\"\"\n",
    "    pass\n",
    "\n",
    "def dense(AT, W, B):\n",
    "    Z = np.matmul(AT, W) + B\n",
    "    A_out = g(Z)\n",
    "    return A_out"
   ]
  }
 ],
 "metadata": {
  "kernelspec": {
   "display_name": "Python 3 (ipykernel)",
   "language": "python",
   "name": "python3"
  },
  "language_info": {
   "codemirror_mode": {
    "name": "ipython",
    "version": 3
   },
   "file_extension": ".py",
   "mimetype": "text/x-python",
   "name": "python",
   "nbconvert_exporter": "python",
   "pygments_lexer": "ipython3",
   "version": "3.9.6"
  }
 },
 "nbformat": 4,
 "nbformat_minor": 5
}
